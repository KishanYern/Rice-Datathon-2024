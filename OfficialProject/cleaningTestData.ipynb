{
 "cells": [
  {
   "cell_type": "code",
   "execution_count": 29,
   "metadata": {},
   "outputs": [],
   "source": [
    "import pandas as pd\n",
    "import numpy as np\n",
    "import seaborn as sns\n",
    "import matplotlib.pyplot as plt\n",
    "import warnings\n",
    "\n",
    "testset = pd.read_csv('training.csv') #replace with whatever our testing data is called, you can change test set variable name\n",
    "\n",
    "warnings.filterwarnings(\"ignore\")\n",
    "warnings.filterwarnings(\"ignore\", category=FutureWarning)\n",
    "from matplotlib import rcParams\n",
    "rcParams[\"figure.figsize\"] = 12, 6\n",
    "sns.set_style('darkgrid')"
   ]
  },
  {
   "cell_type": "code",
   "execution_count": 30,
   "metadata": {},
   "outputs": [
    {
     "data": {
      "text/plain": [
       "264982"
      ]
     },
     "execution_count": 30,
     "metadata": {},
     "output_type": "execute_result"
    }
   ],
   "source": [
    "testset.head()\n",
    "# Confirm that there are no null values in the testing dataset as good practice\n",
    "testset.isna().sum().sum()"
   ]
  },
  {
   "cell_type": "code",
   "execution_count": 31,
   "metadata": {},
   "outputs": [],
   "source": [
    "testset.drop(['average_frac_fluid_per_stage', 'average_proppant_per_stage', 'average_stage_length',\n",
    "          'number_of_stages'], axis=1, inplace=True) # Dropping columns with too many NaN values\n",
    "\n",
    "testset.drop(['Unnamed: 0', 'pad_id', 'frac_type', 'batch_frac_classification', \n",
    "        'standardized_operator_name'], axis=1, inplace=True) # Dropping columns that are not useful"
   ]
  },
  {
   "cell_type": "code",
   "execution_count": 32,
   "metadata": {},
   "outputs": [],
   "source": [
    "from sklearn.linear_model import LinearRegression\n",
    "\n",
    "subset_train_df = testset[['surface_x', 'bh_x']].dropna()\n",
    "\n",
    "X = subset_train_df[['surface_x']]\n",
    "y = subset_train_df['bh_x']\n",
    "\n",
    "lr_model = LinearRegression()\n",
    "lr_model.fit(X, y)\n",
    "\n",
    "missing_bh_x_rows = testset['bh_x'].isna()\n",
    "\n",
    "testset.loc[missing_bh_x_rows, 'bh_x'] = lr_model.predict(testset.loc[missing_bh_x_rows, ['surface_x']])"
   ]
  },
  {
   "cell_type": "code",
   "execution_count": 33,
   "metadata": {},
   "outputs": [],
   "source": [
    "# Repeat for bh_y\n",
    "subset_train_df = testset[['surface_y', 'bh_y']].dropna()\n",
    "\n",
    "X = subset_train_df[['surface_y']]\n",
    "y = subset_train_df['bh_y']\n",
    "\n",
    "lr_model_y = LinearRegression()\n",
    "lr_model_y.fit(X, y)\n",
    "\n",
    "missing_bh_x_rows = testset['bh_y'].isna()\n",
    "\n",
    "testset.loc[missing_bh_x_rows, 'bh_y'] = lr_model_y.predict(testset.loc[missing_bh_x_rows, ['surface_y']])"
   ]
  },
  {
   "cell_type": "code",
   "execution_count": 34,
   "metadata": {},
   "outputs": [],
   "source": [
    "testset.dropna(subset=['OilPeakRate'], inplace=True)\n",
    "testset.replace([np.inf, -np.inf], np.nan, inplace=True)\n",
    "def find_mean_std(df, col):\n",
    "    mean = df[col].mean()\n",
    "    std = df[col].std()\n",
    "    return mean, std\n",
    "\n",
    "for col in testset.columns:  \n",
    "    if(testset[col].dtype == 'object'):\n",
    "        continue\n",
    "    mean, std = find_mean_std(testset, col)\n",
    "    testset[col] = testset[col].apply(lambda x: mean if x > mean + 3 * std else x)\n",
    "    testset[col] = testset[col].apply(lambda x: mean if x < mean - 3 * std else x)\n",
    "\n",
    "# Not sure if these should be here\n",
    "numerics = ['int16', 'int32', 'int64', 'float16', 'float32', 'float64']\n",
    "\n",
    "newdf = testset.select_dtypes(include=numerics)"
   ]
  },
  {
   "cell_type": "code",
   "execution_count": 35,
   "metadata": {},
   "outputs": [
    {
     "data": {
      "text/plain": [
       "surface_x                          0\n",
       "surface_y                          0\n",
       "bh_x                               0\n",
       "bh_y                               0\n",
       "gross_perforated_length            0\n",
       "total_proppant                     0\n",
       "total_fluid                        0\n",
       "true_vertical_depth                0\n",
       "ffs_frac_type                   4996\n",
       "proppant_intensity                 0\n",
       "frac_fluid_intensity               0\n",
       "proppant_to_frac_fluid_ratio       0\n",
       "frac_fluid_to_proppant_ratio       0\n",
       "bin_lateral_length                 0\n",
       "relative_well_position             0\n",
       "well_family_relationship           0\n",
       "frac_seasoning                     0\n",
       "horizontal_midpoint_x              0\n",
       "horizontal_midpoint_y              0\n",
       "horizontal_toe_x                   0\n",
       "horizontal_toe_y                   0\n",
       "OilPeakRate                        0\n",
       "dtype: int64"
      ]
     },
     "execution_count": 35,
     "metadata": {},
     "output_type": "execute_result"
    }
   ],
   "source": [
    "def impute_columns(df, threshold=0.5):\n",
    "    cols = []\n",
    "    for col in df.columns:\n",
    "        if (df[col].isnull().sum() / len(df) < threshold) and (df[col].dtype != 'object'):\n",
    "            cols.append(col)\n",
    "    return cols\n",
    "\n",
    "from sklearn.impute import KNNImputer\n",
    "\n",
    "knn_imputer = KNNImputer(n_neighbors=10)  \n",
    "\n",
    "full_impute_df = testset.copy()\n",
    "cols_to_imputate = impute_columns(testset, threshold=0.3)\n",
    "\n",
    "full_impute_df[cols_to_imputate] = knn_imputer.fit_transform(testset[cols_to_imputate])\n",
    "full_impute_df.isnull().sum()"
   ]
  },
  {
   "cell_type": "code",
   "execution_count": 38,
   "metadata": {},
   "outputs": [
    {
     "data": {
      "text/plain": [
       "surface_x                       0\n",
       "surface_y                       0\n",
       "bh_x                            0\n",
       "bh_y                            0\n",
       "gross_perforated_length         0\n",
       "total_proppant                  0\n",
       "total_fluid                     0\n",
       "true_vertical_depth             0\n",
       "ffs_frac_type                   0\n",
       "proppant_intensity              0\n",
       "frac_fluid_intensity            0\n",
       "proppant_to_frac_fluid_ratio    0\n",
       "frac_fluid_to_proppant_ratio    0\n",
       "bin_lateral_length              0\n",
       "relative_well_position          0\n",
       "well_family_relationship        0\n",
       "frac_seasoning                  0\n",
       "horizontal_midpoint_x           0\n",
       "horizontal_midpoint_y           0\n",
       "horizontal_toe_x                0\n",
       "horizontal_toe_y                0\n",
       "OilPeakRate                     0\n",
       "dtype: int64"
      ]
     },
     "execution_count": 38,
     "metadata": {},
     "output_type": "execute_result"
    }
   ],
   "source": [
    "# Don't really need this but keeping in case\n",
    "full_impute_df.dropna(inplace=True)\n",
    "full_impute_df.isnull().sum()"
   ]
  },
  {
   "cell_type": "code",
   "execution_count": 37,
   "metadata": {},
   "outputs": [],
   "source": [
    "# We have formatted the test dataset, now we can export this set to csv file\n",
    "# uncomment when ready\n",
    "# full_impute_df.to_csv('cleaned_test_data.csv', index=False)"
   ]
  }
 ],
 "metadata": {
  "kernelspec": {
   "display_name": "Python 3",
   "language": "python",
   "name": "python3"
  },
  "language_info": {
   "codemirror_mode": {
    "name": "ipython",
    "version": 3
   },
   "file_extension": ".py",
   "mimetype": "text/x-python",
   "name": "python",
   "nbconvert_exporter": "python",
   "pygments_lexer": "ipython3",
   "version": "3.12.0"
  }
 },
 "nbformat": 4,
 "nbformat_minor": 2
}
