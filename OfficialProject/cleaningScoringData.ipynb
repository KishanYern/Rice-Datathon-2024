{
 "cells": [
  {
   "cell_type": "code",
   "execution_count": 1,
   "metadata": {},
   "outputs": [],
   "source": [
    "import pandas as pd\n",
    "import numpy as np\n",
    "import seaborn as sns\n",
    "import matplotlib.pyplot as plt\n",
    "import warnings\n",
    "\n",
    "testset = pd.read_csv('scoring.csv')\n",
    "\n",
    "warnings.filterwarnings(\"ignore\")\n",
    "warnings.filterwarnings(\"ignore\", category=FutureWarning)\n",
    "from matplotlib import rcParams\n",
    "rcParams[\"figure.figsize\"] = 12, 6\n",
    "sns.set_style('darkgrid')"
   ]
  },
  {
   "cell_type": "code",
   "execution_count": 2,
   "metadata": {},
   "outputs": [
    {
     "data": {
      "text/plain": [
       "0"
      ]
     },
     "execution_count": 2,
     "metadata": {},
     "output_type": "execute_result"
    }
   ],
   "source": [
    "testset.head()\n",
    "# Confirm that there are no null values in the testing dataset as good practice\n",
    "testset.isna().sum().sum()"
   ]
  },
  {
   "cell_type": "code",
   "execution_count": 3,
   "metadata": {},
   "outputs": [],
   "source": [
    "testset.drop(['average_frac_fluid_per_stage', 'average_proppant_per_stage', 'average_stage_length',\n",
    "          'number_of_stages'], axis=1, inplace=True) # Dropping columns with too many NaN values\n",
    "\n",
    "testset.drop(['Unnamed: 0', 'pad_id', 'frac_type', 'batch_frac_classification', \n",
    "        'standardized_operator_name'], axis=1, inplace=True) # Dropping columns that are not useful"
   ]
  },
  {
   "cell_type": "code",
   "execution_count": null,
   "metadata": {},
   "outputs": [],
   "source": [
    "# We have formatted the test dataset, now we can export this set to csv file\n",
    "# uncomment when ready\n",
    "testset.to_csv('cleaned_scoring_data.csv', index=False)"
   ]
  }
 ],
 "metadata": {
  "kernelspec": {
   "display_name": "Python 3",
   "language": "python",
   "name": "python3"
  },
  "language_info": {
   "codemirror_mode": {
    "name": "ipython",
    "version": 3
   },
   "file_extension": ".py",
   "mimetype": "text/x-python",
   "name": "python",
   "nbconvert_exporter": "python",
   "pygments_lexer": "ipython3",
   "version": "3.12.0"
  }
 },
 "nbformat": 4,
 "nbformat_minor": 2
}
